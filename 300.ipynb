{
 "cells": [
  {
   "cell_type": "markdown",
   "metadata": {
    "id": "PHSgOO6e3DAY"
   },
   "source": [
    "화면에 Hello World 문자열을 출력하세요."
   ]
  },
  {
   "cell_type": "code",
   "execution_count": 2,
   "metadata": {
    "id": "rqPvUen-3D5l"
   },
   "outputs": [
    {
     "name": "stdout",
     "output_type": "stream",
     "text": [
      "hello world\n"
     ]
    }
   ],
   "source": [
    "print('hello world')"
   ]
  },
  {
   "cell_type": "markdown",
   "metadata": {
    "id": "e2tslHIs3RqJ"
   },
   "source": [
    "화면에 Mary's cosmetics을 출력하세요. (중간에 '가 있음에 주의하세요)"
   ]
  },
  {
   "cell_type": "code",
   "execution_count": 3,
   "metadata": {
    "id": "qEjvJUo23UGq"
   },
   "outputs": [
    {
     "name": "stdout",
     "output_type": "stream",
     "text": [
      "Mary's cosmetic\n"
     ]
    }
   ],
   "source": [
    "print(\"Mary's cosmetic\")"
   ]
  },
  {
   "cell_type": "markdown",
   "metadata": {
    "id": "7TY7x_Gj3c2x"
   },
   "source": [
    "화면에 C:\\Windows를 출력하세요."
   ]
  },
  {
   "cell_type": "code",
   "execution_count": 4,
   "metadata": {
    "id": "aYlbp8nZ3drI"
   },
   "outputs": [
    {
     "name": "stdout",
     "output_type": "stream",
     "text": [
      "C:\\Windows\n"
     ]
    }
   ],
   "source": [
    "print(\"C:\\Windows\")"
   ]
  },
  {
   "cell_type": "markdown",
   "metadata": {
    "id": "EXTle0xE3mhQ"
   },
   "source": [
    "005 print 탭과 줄바꿈 - 다음 코드를 실행해보고 \\t와 \\n의 역할을 설명해보세요. -탭설정, 줄바꿈"
   ]
  },
  {
   "cell_type": "code",
   "execution_count": 5,
   "metadata": {
    "id": "t3If1vkh3nGt"
   },
   "outputs": [
    {
     "name": "stdout",
     "output_type": "stream",
     "text": [
      "다음 코드를.\n",
      " 실행해보고 역할을 설명해보세요.\n"
     ]
    }
   ],
   "source": [
    "print(\"다음 코드를.\\n 실행해보고 역할을 설명해보세요.\")"
   ]
  },
  {
   "cell_type": "markdown",
   "metadata": {
    "id": "3Sxh888V4RTw"
   },
   "source": [
    "006 print 여러 데이터 출력 - print 함수에 두 개의 단어를 입력한 예제입니다. 아래 코드의 출력 결과를 예상해봅시다"
   ]
  },
  {
   "cell_type": "code",
   "execution_count": 6,
   "metadata": {
    "id": "GJ0_9a354esg"
   },
   "outputs": [
    {
     "name": "stdout",
     "output_type": "stream",
     "text": [
      "오늘은 일요일\n"
     ]
    }
   ],
   "source": [
    "print (\"오늘은\", \"일요일\")"
   ]
  },
  {
   "cell_type": "markdown",
   "metadata": {
    "id": "zD_iZXMu4qsT"
   },
   "source": [
    "007 print 기초 - print() 함수를 사용하여 다음과 같이 출력하세요.\n",
    "naver;kakao;sk;samsung"
   ]
  },
  {
   "cell_type": "code",
   "execution_count": 7,
   "metadata": {
    "id": "TXu0aAcx4vVX"
   },
   "outputs": [
    {
     "name": "stdout",
     "output_type": "stream",
     "text": [
      "naver';'kakao';'sk';'samsung\n"
     ]
    }
   ],
   "source": [
    "print(\"naver';'kakao';'sk';'samsung\")"
   ]
  },
  {
   "cell_type": "markdown",
   "metadata": {
    "id": "3X9DWy1b5Loo"
   },
   "source": [
    "008 print 기초 - print() 함수를 사용하여 다음과 같이 출력하세요.\n",
    "naver/kakao/sk/samsung.  -답)print(\"naver\", \"kakao\", \"samsung\", sep=\";\")\n",
    "답) print(\"naver\", \"kakao\", \"samsung\", sep=\"/\")"
   ]
  },
  {
   "cell_type": "code",
   "execution_count": 8,
   "metadata": {
    "id": "fMRn7tF05PLJ"
   },
   "outputs": [
    {
     "ename": "SyntaxError",
     "evalue": "invalid syntax. Perhaps you forgot a comma? (4287876361.py, line 1)",
     "output_type": "error",
     "traceback": [
      "\u001b[1;36m  Cell \u001b[1;32mIn[8], line 1\u001b[1;36m\u001b[0m\n\u001b[1;33m    print(naver'/'kakao'/'sk'/'samsung)\u001b[0m\n\u001b[1;37m               ^\u001b[0m\n\u001b[1;31mSyntaxError\u001b[0m\u001b[1;31m:\u001b[0m invalid syntax. Perhaps you forgot a comma?\n"
     ]
    }
   ],
   "source": [
    "print(naver'/'kakao'/'sk'/'samsung)"
   ]
  },
  {
   "cell_type": "markdown",
   "metadata": {
    "id": "NSHg2X0e5bEo"
   },
   "source": [
    "009 print 줄바꿈 - 다음 코드를 수정하여 줄바꿈이 없이 출력하세요. (힌트: end='') print 함수는 두 번 사용합니다. 세미콜론 (;)은 한줄에 여러 개의 명령을 작성하기 위해 사용합니다.\n",
    "\n",
    "print(\"first\");print(\"second\")\n",
    "답) print(\"first\", end=\"\"); print(\"second\")"
   ]
  },
  {
   "cell_type": "code",
   "execution_count": 9,
   "metadata": {
    "id": "edZPZIwc5elW"
   },
   "outputs": [
    {
     "name": "stdout",
     "output_type": "stream",
     "text": [
      "first\n",
      "second\n"
     ]
    }
   ],
   "source": [
    "print(\"first\");print(\"second\")"
   ]
  },
  {
   "cell_type": "markdown",
   "metadata": {
    "id": "5eMsU6RY5y3A"
   },
   "source": [
    "010 연산 결과 출력 - 5/3의 결과를 화면에 출력하세요."
   ]
  },
  {
   "cell_type": "code",
   "execution_count": 10,
   "metadata": {
    "id": "KBCqt-EL53XU"
   },
   "outputs": [
    {
     "name": "stdout",
     "output_type": "stream",
     "text": [
      "1.6666666666666667\n"
     ]
    }
   ],
   "source": [
    "print(5 / 3)"
   ]
  },
  {
   "cell_type": "code",
   "execution_count": null,
   "metadata": {},
   "outputs": [],
   "source": []
  }
 ],
 "metadata": {
  "colab": {
   "private_outputs": true,
   "provenance": []
  },
  "kernelspec": {
   "display_name": "Python 3 (ipykernel)",
   "language": "python",
   "name": "python3"
  },
  "language_info": {
   "codemirror_mode": {
    "name": "ipython",
    "version": 3
   },
   "file_extension": ".py",
   "mimetype": "text/x-python",
   "name": "python",
   "nbconvert_exporter": "python",
   "pygments_lexer": "ipython3",
   "version": "3.11.7"
  }
 },
 "nbformat": 4,
 "nbformat_minor": 4
}
