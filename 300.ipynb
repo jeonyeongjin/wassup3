{
  "nbformat": 4,
  "nbformat_minor": 0,
  "metadata": {
    "colab": {
      "private_outputs": true,
      "provenance": []
    },
    "kernelspec": {
      "name": "python3",
      "display_name": "Python 3"
    },
    "language_info": {
      "name": "python"
    }
  },
  "cells": [
    {
      "cell_type": "markdown",
      "source": [
        "화면에 Hello World 문자열을 출력하세요."
      ],
      "metadata": {
        "id": "PHSgOO6e3DAY"
      }
    },
    {
      "cell_type": "code",
      "source": [
        "print('hello world')"
      ],
      "metadata": {
        "id": "rqPvUen-3D5l"
      },
      "execution_count": null,
      "outputs": []
    },
    {
      "cell_type": "markdown",
      "source": [
        "화면에 Mary's cosmetics을 출력하세요. (중간에 '가 있음에 주의하세요)"
      ],
      "metadata": {
        "id": "e2tslHIs3RqJ"
      }
    },
    {
      "cell_type": "code",
      "source": [
        "print(\"Mary's cosmetic\")"
      ],
      "metadata": {
        "id": "qEjvJUo23UGq"
      },
      "execution_count": null,
      "outputs": []
    },
    {
      "cell_type": "markdown",
      "source": [
        "화면에 C:\\Windows를 출력하세요."
      ],
      "metadata": {
        "id": "7TY7x_Gj3c2x"
      }
    },
    {
      "cell_type": "code",
      "source": [
        "print(\"C:\\Windows\")"
      ],
      "metadata": {
        "id": "aYlbp8nZ3drI"
      },
      "execution_count": null,
      "outputs": []
    },
    {
      "cell_type": "markdown",
      "source": [
        "005 print 탭과 줄바꿈 - 다음 코드를 실행해보고 \\t와 \\n의 역할을 설명해보세요. -탭설정, 줄바꿈"
      ],
      "metadata": {
        "id": "EXTle0xE3mhQ"
      }
    },
    {
      "cell_type": "code",
      "source": [
        "print(\"다음 코드를.\\n 실행해보고 역할을 설명해보세요.\")"
      ],
      "metadata": {
        "id": "t3If1vkh3nGt"
      },
      "execution_count": null,
      "outputs": []
    },
    {
      "cell_type": "markdown",
      "source": [
        "006 print 여러 데이터 출력 - print 함수에 두 개의 단어를 입력한 예제입니다. 아래 코드의 출력 결과를 예상해봅시다"
      ],
      "metadata": {
        "id": "3Sxh888V4RTw"
      }
    },
    {
      "cell_type": "code",
      "source": [
        "print (\"오늘은\", \"일요일\")"
      ],
      "metadata": {
        "id": "GJ0_9a354esg"
      },
      "execution_count": null,
      "outputs": []
    },
    {
      "cell_type": "markdown",
      "source": [
        "007 print 기초 - print() 함수를 사용하여 다음과 같이 출력하세요.\n",
        "naver;kakao;sk;samsung"
      ],
      "metadata": {
        "id": "zD_iZXMu4qsT"
      }
    },
    {
      "cell_type": "code",
      "source": [
        "print(\"naver';'kakao';'sk';'samsung\")"
      ],
      "metadata": {
        "id": "TXu0aAcx4vVX"
      },
      "execution_count": null,
      "outputs": []
    },
    {
      "cell_type": "markdown",
      "source": [
        "008 print 기초 - print() 함수를 사용하여 다음과 같이 출력하세요.\n",
        "naver/kakao/sk/samsung.  -답)print(\"naver\", \"kakao\", \"samsung\", sep=\";\")\n",
        "답) print(\"naver\", \"kakao\", \"samsung\", sep=\"/\")"
      ],
      "metadata": {
        "id": "3X9DWy1b5Loo"
      }
    },
    {
      "cell_type": "code",
      "source": [
        "print(naver'/'kakao'/'sk'/'samsung)"
      ],
      "metadata": {
        "id": "fMRn7tF05PLJ"
      },
      "execution_count": null,
      "outputs": []
    },
    {
      "cell_type": "markdown",
      "source": [
        "009 print 줄바꿈 - 다음 코드를 수정하여 줄바꿈이 없이 출력하세요. (힌트: end='') print 함수는 두 번 사용합니다. 세미콜론 (;)은 한줄에 여러 개의 명령을 작성하기 위해 사용합니다.\n",
        "\n",
        "print(\"first\");print(\"second\")\n",
        "답) print(\"first\", end=\"\"); print(\"second\")"
      ],
      "metadata": {
        "id": "NSHg2X0e5bEo"
      }
    },
    {
      "cell_type": "code",
      "source": [
        "print(\"first\");print(\"second\")"
      ],
      "metadata": {
        "id": "edZPZIwc5elW"
      },
      "execution_count": null,
      "outputs": []
    },
    {
      "cell_type": "markdown",
      "source": [
        "010 연산 결과 출력 - 5/3의 결과를 화면에 출력하세요."
      ],
      "metadata": {
        "id": "5eMsU6RY5y3A"
      }
    },
    {
      "cell_type": "code",
      "source": [
        "print(5 / 3)"
      ],
      "metadata": {
        "id": "KBCqt-EL53XU"
      },
      "execution_count": null,
      "outputs": []
    }
  ]
}