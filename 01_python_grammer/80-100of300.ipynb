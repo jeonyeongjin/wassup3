{
 "cells": [
  {
   "cell_type": "markdown",
   "metadata": {
    "id": "TUzRw0MlA7rH"
   },
   "source": [
    "81.다음과 같이 10개의 값이 저장된 scores 리스트가 있을 때, start expression을 사용하여 좌측 8개의 값을 valid_score 변수에 바인딩하여라."
   ]
  },
  {
   "cell_type": "code",
   "execution_count": 1,
   "metadata": {
    "id": "8LplNtXQWQ1-"
   },
   "outputs": [
    {
     "name": "stdout",
     "output_type": "stream",
     "text": [
      "[8.8, 8.9, 8.7, 9.2, 9.3, 9.7, 9.9, 9.5]\n"
     ]
    }
   ],
   "source": [
    "scores = [8.8, 8.9, 8.7, 9.2, 9.3, 9.7, 9.9, 9.5, 7.8, 9.4]\n",
    "*valid_score, a,b = [8.8, 8.9, 8.7, 9.2, 9.3, 9.7, 9.9, 9.5, 7.8, 9.4]\n",
    "print(valid_score)"
   ]
  },
  {
   "cell_type": "markdown",
   "metadata": {
    "id": "QWkZkHzHA-t6"
   },
   "source": [
    "82.다음과 같이 10개의 값이 저장된 scores 리스트가 있을 때, start expression을 사용하여 우측 8개의 값을 valid_score 변수에 바인딩하여라."
   ]
  },
  {
   "cell_type": "code",
   "execution_count": 2,
   "metadata": {
    "id": "M7QgmKKS-hHS"
   },
   "outputs": [
    {
     "name": "stdout",
     "output_type": "stream",
     "text": [
      "[8.7, 9.2, 9.3, 9.7, 9.9, 9.5, 7.8, 9.4]\n"
     ]
    }
   ],
   "source": [
    "a, b, *valid_score = scores\n",
    "print(valid_score)"
   ]
  },
  {
   "cell_type": "markdown",
   "metadata": {
    "id": "bUlQKMI8BAY0"
   },
   "source": [
    "83.다음과 같이 10개의 값이 저장된 scores 리스트가 있을 때, start expression을 사용하여 가운데 있는 8개의 값을 valid_score 변수에 바인딩하여라."
   ]
  },
  {
   "cell_type": "code",
   "execution_count": 3,
   "metadata": {
    "id": "pJ0CG-FQAK4W"
   },
   "outputs": [
    {
     "name": "stdout",
     "output_type": "stream",
     "text": [
      "[8.9, 8.7, 9.2, 9.3, 9.7, 9.9, 9.5, 7.8]\n"
     ]
    }
   ],
   "source": [
    "a, *valid_score, b = scores\n",
    "print(valid_score)"
   ]
  },
  {
   "cell_type": "markdown",
   "metadata": {
    "id": "TRqRNtFQBDDO"
   },
   "source": [
    "84.temp 이름의 비어있는 딕셔너리를 만들라."
   ]
  },
  {
   "cell_type": "code",
   "execution_count": 4,
   "metadata": {
    "id": "BJf35149BFgW"
   },
   "outputs": [],
   "source": [
    "temp = {  }\n"
   ]
  },
  {
   "cell_type": "markdown",
   "metadata": {
    "id": "yI8-PkufCPbW"
   },
   "source": [
    "85.다음 아이스크림 이름과 희망 가격을 딕셔너리로 구성하라."
   ]
  },
  {
   "cell_type": "code",
   "execution_count": 5,
   "metadata": {
    "id": "anTkw34SCQeS"
   },
   "outputs": [
    {
     "name": "stdout",
     "output_type": "stream",
     "text": [
      "{'메로나': 1000, '폴라포': 1200, '빵빠레': 1800}\n"
     ]
    }
   ],
   "source": [
    "icecream = {'메로나':1000,\n",
    "            '폴라포':1200,\n",
    "            '빵빠레':1800\n",
    "             }\n",
    "print(icecream)"
   ]
  },
  {
   "cell_type": "markdown",
   "metadata": {
    "id": "kJm2_lfwCrgw"
   },
   "source": [
    "86. 85번의 딕셔너리에 아래 아이스크림 가격정보를 추가하라."
   ]
  },
  {
   "cell_type": "code",
   "execution_count": 6,
   "metadata": {
    "id": "wFF_Q-iHCspt"
   },
   "outputs": [
    {
     "name": "stdout",
     "output_type": "stream",
     "text": [
      "{'메로나': 1000, '폴라포': 1200, '빵빠레': 1800, '죠스바': 1200, '월드콘': 1500}\n"
     ]
    }
   ],
   "source": [
    "icecream[\"죠스바\"] = 1200\n",
    "icecream[\"월드콘\"] = 1500\n",
    "print(icecream)"
   ]
  },
  {
   "cell_type": "markdown",
   "metadata": {
    "id": "SIwHymmRDzhu"
   },
   "source": [
    "87.다음 딕셔너리를 사용하여 메로나 가격을 출력하라."
   ]
  },
  {
   "cell_type": "code",
   "execution_count": 7,
   "metadata": {
    "id": "8dNbQC5UDEYw"
   },
   "outputs": [
    {
     "data": {
      "text/plain": [
       "1000"
      ]
     },
     "execution_count": 7,
     "metadata": {},
     "output_type": "execute_result"
    }
   ],
   "source": [
    "ice = {'메로나': 1000,\n",
    "       '폴로포': 1200,\n",
    "       '빵빠레': 1800,\n",
    "       '죠스바': 1200,\n",
    "       '월드콘': 1500}\n",
    "\n",
    "ice['메로나']"
   ]
  },
  {
   "cell_type": "markdown",
   "metadata": {
    "id": "udAO3sQbEckk"
   },
   "source": [
    "88.다음 딕셔너리에서 메로나의 가격을 1300으로 수정하라."
   ]
  },
  {
   "cell_type": "code",
   "execution_count": 8,
   "metadata": {
    "id": "k4Rzc5ySEdnS"
   },
   "outputs": [
    {
     "name": "stdout",
     "output_type": "stream",
     "text": [
      "{'메로나': 1300, '폴로포': 1200, '빵빠레': 1800, '죠스바': 1200, '월드콘': 1500}\n"
     ]
    }
   ],
   "source": [
    "ice = {'메로나': 1000,\n",
    "       '폴로포': 1200,\n",
    "       '빵빠레': 1800,\n",
    "       '죠스바': 1200,\n",
    "       '월드콘': 1500}\n",
    "ice['메로나'] = 1300\n",
    "print(ice)"
   ]
  },
  {
   "cell_type": "markdown",
   "metadata": {
    "id": "CcW3HKfHFGaN"
   },
   "source": [
    "89.다음 딕셔너리에서 메로나를 삭제하라."
   ]
  },
  {
   "cell_type": "code",
   "execution_count": 9,
   "metadata": {
    "id": "7sDBLvOZFHfQ"
   },
   "outputs": [
    {
     "name": "stdout",
     "output_type": "stream",
     "text": [
      "{'폴로포': 1200, '빵빠레': 1800, '죠스바': 1200, '월드콘': 1500}\n"
     ]
    }
   ],
   "source": [
    "ice = {'메로나': 1000,\n",
    "       '폴로포': 1200,\n",
    "       '빵빠레': 1800,\n",
    "       '죠스바': 1200,\n",
    "       '월드콘': 1500}\n",
    "\n",
    "del ice['메로나']\n",
    "print(ice)"
   ]
  },
  {
   "cell_type": "markdown",
   "metadata": {
    "id": "K1SSPE_tGDY3"
   },
   "source": [
    "90.다음 코드에서 에러가 발생한 원인을 설명하라.\n",
    "없는 키를 조회시에는 입력해야한다"
   ]
  },
  {
   "cell_type": "code",
   "execution_count": 10,
   "metadata": {
    "id": "voN5VjCRS-9i"
   },
   "outputs": [
    {
     "ename": "SyntaxError",
     "evalue": "invalid syntax (4278055765.py, line 1)",
     "output_type": "error",
     "traceback": [
      "\u001b[1;36m  Cell \u001b[1;32mIn[10], line 1\u001b[1;36m\u001b[0m\n\u001b[1;33m    90 - 다음 코드에서 에러가 발생한 원인을 설명하라.\u001b[0m\n\u001b[1;37m            ^\u001b[0m\n\u001b[1;31mSyntaxError\u001b[0m\u001b[1;31m:\u001b[0m invalid syntax\n"
     ]
    }
   ],
   "source": [
    "90 - 다음 코드에서 에러가 발생한 원인을 설명하라.\n",
    "추가시에 바로 벨류를 입력해야한다\n"
   ]
  },
  {
   "cell_type": "code",
   "execution_count": 11,
   "metadata": {
    "id": "u5qs4_2sTGLF"
   },
   "outputs": [
    {
     "data": {
      "text/plain": [
       "'1000'"
      ]
     },
     "execution_count": 11,
     "metadata": {},
     "output_type": "execute_result"
    }
   ],
   "source": [
    "icecream = {'폴라포': 1200, '빵빠레': 1800, '월드콘': 1500, '메로나': 1000}\n",
    "#icecream['누가바']\n",
    "icecream.get('누가바', '1000')"
   ]
  },
  {
   "cell_type": "markdown",
   "metadata": {
    "id": "ITKCF9YfTadg"
   },
   "source": [
    "91.딕셔너리 생성 - 아래의 표에서, 아이스크림 이름을 키값으로, (가격, 재고) 리스트를 딕셔너리의 값으로 저장하라. 딕셔너리의 이름은 inventory로 한다."
   ]
  },
  {
   "cell_type": "code",
   "execution_count": 12,
   "metadata": {
    "id": "lHID1OxGTbEE"
   },
   "outputs": [
    {
     "name": "stdout",
     "output_type": "stream",
     "text": [
      "{'메로나': [300, 20], '비비빅': [400, 3], '조스바': [250, 100]}\n"
     ]
    }
   ],
   "source": [
    "inventory = {\n",
    "    '메로나': [300,20],\n",
    "    '비비빅': [400, 3],\n",
    "    '조스바': [250,100]\n",
    "}\n",
    "print(inventory)"
   ]
  },
  {
   "cell_type": "markdown",
   "metadata": {
    "id": "AC76d0EdTexx"
   },
   "source": [
    "92.딕셔너리 인덱싱 - inventory 딕셔너리에서 메로나의 가격을 화면에 출력하라."
   ]
  },
  {
   "cell_type": "code",
   "execution_count": 13,
   "metadata": {
    "id": "n-BRaFojTg2X"
   },
   "outputs": [
    {
     "data": {
      "text/plain": [
       "300"
      ]
     },
     "execution_count": 13,
     "metadata": {},
     "output_type": "execute_result"
    }
   ],
   "source": [
    "inventory = {\"메로나\": [300, 20],\n",
    "              \"비비빅\": [400, 3],\n",
    "              \"죠스바\": [250, 100]}\n",
    "answer = inventory.get(\"메로나\")\n",
    "answer[0]"
   ]
  },
  {
   "cell_type": "markdown",
   "metadata": {
    "id": "_IWCZxDMThmj"
   },
   "source": [
    "93.딕셔너리 인덱싱 - inventory 딕셔너리에서 메로나의 재고를 화면에 출력하라."
   ]
  },
  {
   "cell_type": "code",
   "execution_count": 14,
   "metadata": {
    "id": "EhPh2_ihTn_B"
   },
   "outputs": [
    {
     "data": {
      "text/plain": [
       "20"
      ]
     },
     "execution_count": 14,
     "metadata": {},
     "output_type": "execute_result"
    }
   ],
   "source": [
    "inventory = {\"메로나\": [300, 20],\n",
    "              \"비비빅\": [400, 3],\n",
    "              \"죠스바\": [250, 100]}\n",
    "answer = inventory.get(\"메로나\")\n",
    "answer[1]"
   ]
  },
  {
   "cell_type": "markdown",
   "metadata": {
    "id": "DCpFpXjzTrKe"
   },
   "source": [
    "94.딕셔너리 추가 - inventory 딕셔너리에 아래 데이터를 추가하라."
   ]
  },
  {
   "cell_type": "code",
   "execution_count": 15,
   "metadata": {
    "id": "DdnMRs_QTttk"
   },
   "outputs": [
    {
     "name": "stdout",
     "output_type": "stream",
     "text": [
      "{'메로나': [300, 20], '비비빅': [400, 3], '죠스바': [250, 100], '월드콘': [500, 7]}\n"
     ]
    }
   ],
   "source": [
    "inventory = {\"메로나\": [300, 20],\n",
    "              \"비비빅\": [400, 3],\n",
    "              \"죠스바\": [250, 100]}\n",
    "inventory['월드콘'] = [500,7]\n",
    "print(inventory)"
   ]
  },
  {
   "cell_type": "markdown",
   "metadata": {
    "id": "3pJiKaizTuUr"
   },
   "source": [
    "95 딕셔너리 keys() 메서드 - 다음의 딕셔너리로부터 key 값으로만 구성된 리스트를 생성하라"
   ]
  },
  {
   "cell_type": "code",
   "execution_count": 16,
   "metadata": {
    "id": "LnkNA4bnTwls"
   },
   "outputs": [
    {
     "data": {
      "text/plain": [
       "dict_keys(['탱크보이', '폴라포', '빵빠레', '월드콘', '메로나'])"
      ]
     },
     "execution_count": 16,
     "metadata": {},
     "output_type": "execute_result"
    }
   ],
   "source": [
    "icecream = {'탱크보이': 1200, '폴라포': 1200, '빵빠레': 1800, '월드콘': 1500, '메로나': 1000}\n",
    "icecream.keys()"
   ]
  },
  {
   "cell_type": "markdown",
   "metadata": {
    "id": "3H2WCGHLTzQv"
   },
   "source": [
    "96.딕셔너리 values() 메서드 - 다음의 딕셔너리에서 values 값으로만 구성된 리스트를 생성하라."
   ]
  },
  {
   "cell_type": "code",
   "execution_count": 17,
   "metadata": {
    "id": "dUmtFkPIT3bd"
   },
   "outputs": [
    {
     "data": {
      "text/plain": [
       "dict_values([1200, 1200, 1800, 1500, 1000])"
      ]
     },
     "execution_count": 17,
     "metadata": {},
     "output_type": "execute_result"
    }
   ],
   "source": [
    "icecream = {'탱크보이': 1200, '폴라포': 1200, '빵빠레': 1800, '월드콘': 1500, '메로나': 1000}\n",
    "icecream.values()"
   ]
  },
  {
   "cell_type": "markdown",
   "metadata": {
    "id": "YMtO0TRVT3_p"
   },
   "source": [
    "97.딕셔너리 values() 메서드 - icecream 딕셔너리에서 아이스크림 판매 금액의 총합을 출력하라."
   ]
  },
  {
   "cell_type": "code",
   "execution_count": 18,
   "metadata": {
    "id": "Ht-r_trwT6is"
   },
   "outputs": [
    {
     "data": {
      "text/plain": [
       "6700"
      ]
     },
     "execution_count": 18,
     "metadata": {},
     "output_type": "execute_result"
    }
   ],
   "source": [
    "icecream = {'탱크보이': 1200, '폴라포': 1200, '빵빠레': 1800, '월드콘': 1500, '메로나': 1000}\n",
    "values_icecream = icecream.values()\n",
    "sum(values_icecream)"
   ]
  },
  {
   "cell_type": "markdown",
   "metadata": {
    "id": "BsWt3HhjT8bB"
   },
   "source": [
    "98. 딕셔너리 update 메서드 - 아래의 new_product 딕셔너리를 다음 icecream 딕셔너리에 추가하라."
   ]
  },
  {
   "cell_type": "code",
   "execution_count": 19,
   "metadata": {
    "id": "n_Ridba5UBvG"
   },
   "outputs": [
    {
     "name": "stdout",
     "output_type": "stream",
     "text": [
      "{'탱크보이': 1200, '폴라포': 1200, '빵빠레': 1800, '월드콘': 1500, '메로나': 1000, '팥빙수': 2700, '아맛나': 1000}\n"
     ]
    }
   ],
   "source": [
    "icecream = {'탱크보이': 1200, '폴라포': 1200, '빵빠레': 1800, '월드콘': 1500, '메로나': 1000}\n",
    "new_product = {'팥빙수':2700, '아맛나':1000}\n",
    "\n",
    "icecream.update(new_product)\n",
    "print(icecream)"
   ]
  },
  {
   "cell_type": "markdown",
   "metadata": {
    "id": "FIJ6y0BVUCVY"
   },
   "source": [
    "99. zip과 dict - 아래 두 개의 튜플을 하나의 딕셔너리로 변환하라. keys를 키로, vals를 값으로 result 이름의 딕셔너리로 저장한다."
   ]
  },
  {
   "cell_type": "code",
   "execution_count": 20,
   "metadata": {
    "id": "reiJ2XfmUGMA"
   },
   "outputs": [
    {
     "data": {
      "text/plain": [
       "{'apple': 300, 'pear': 250, 'peach': 400}"
      ]
     },
     "execution_count": 20,
     "metadata": {},
     "output_type": "execute_result"
    }
   ],
   "source": [
    "keys = (\"apple\", \"pear\", \"peach\")\n",
    "vals = (300, 250, 400)\n",
    "\n",
    "result  = zip(keys, vals)\n",
    "dict(result)"
   ]
  },
  {
   "cell_type": "markdown",
   "metadata": {
    "id": "5zVo8swHUHHo"
   },
   "source": [
    "100.zip과 dict - date와 close_price 두 개의 리스트를 close_table 이름의 딕셔너리로 생성하라."
   ]
  },
  {
   "cell_type": "code",
   "execution_count": 21,
   "metadata": {
    "id": "OE6zi8_fULPb"
   },
   "outputs": [
    {
     "data": {
      "text/plain": [
       "{'apple': 300, 'pear': 250, 'peach': 400}"
      ]
     },
     "execution_count": 21,
     "metadata": {},
     "output_type": "execute_result"
    }
   ],
   "source": [
    "date = ['09/05', '09/06', '09/07', '09/08', '09/09']\n",
    "close_price = [10500, 10300, 10100, 10800, 11000]\n",
    "\n",
    "close_table = zip(keys, vals)\n",
    "dict(close_table)\n"
   ]
  }
 ],
 "metadata": {
  "colab": {
   "authorship_tag": "ABX9TyPetC5y8hA9/P4kcvMyDDOK",
   "private_outputs": true,
   "provenance": []
  },
  "kernelspec": {
   "display_name": "Python 3 (ipykernel)",
   "language": "python",
   "name": "python3"
  },
  "language_info": {
   "codemirror_mode": {
    "name": "ipython",
    "version": 3
   },
   "file_extension": ".py",
   "mimetype": "text/x-python",
   "name": "python",
   "nbconvert_exporter": "python",
   "pygments_lexer": "ipython3",
   "version": "3.11.7"
  }
 },
 "nbformat": 4,
 "nbformat_minor": 4
}
