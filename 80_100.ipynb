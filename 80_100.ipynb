{
  "nbformat": 4,
  "nbformat_minor": 0,
  "metadata": {
    "colab": {
      "private_outputs": true,
      "provenance": []
    },
    "kernelspec": {
      "name": "python3",
      "display_name": "Python 3"
    },
    "language_info": {
      "name": "python"
    }
  },
  "cells": [
    {
      "cell_type": "markdown",
      "source": [
        "81.다음과 같이 10개의 값이 저장된 scores 리스트가 있을 때, start expression을 사용하여 좌측 8개의 값을 valid_score 변수에 바인딩하여라."
      ],
      "metadata": {
        "id": "TUzRw0MlA7rH"
      }
    },
    {
      "cell_type": "code",
      "execution_count": null,
      "metadata": {
        "id": "8LplNtXQWQ1-"
      },
      "outputs": [],
      "source": [
        "scores = [8.8, 8.9, 8.7, 9.2, 9.3, 9.7, 9.9, 9.5, 7.8, 9.4]"
      ]
    },
    {
      "cell_type": "markdown",
      "source": [
        "82.다음과 같이 10개의 값이 저장된 scores 리스트가 있을 때, start expression을 사용하여 우측 8개의 값을 valid_score 변수에 바인딩하여라."
      ],
      "metadata": {
        "id": "QWkZkHzHA-t6"
      }
    },
    {
      "cell_type": "code",
      "source": [
        "*valid_score, a, b = scores\n",
        "print(valid_score)"
      ],
      "metadata": {
        "id": "M7QgmKKS-hHS"
      },
      "execution_count": null,
      "outputs": []
    },
    {
      "cell_type": "code",
      "source": [
        "a,b = scores, *valid_score\n",
        "print(valid_score)"
      ],
      "metadata": {
        "id": "pJ0CG-FQAK4W"
      },
      "execution_count": null,
      "outputs": []
    },
    {
      "cell_type": "markdown",
      "source": [
        "83.다음과 같이 10개의 값이 저장된 scores 리스트가 있을 때, start expression을 사용하여 가운데 있는 8개의 값을 valid_score 변수에 바인딩하여라."
      ],
      "metadata": {
        "id": "bUlQKMI8BAY0"
      }
    },
    {
      "cell_type": "code",
      "source": [
        "a = scores, *valid_score, b = scores\n",
        "print(valid_score)"
      ],
      "metadata": {
        "id": "BkSORdPrAhos"
      },
      "execution_count": null,
      "outputs": []
    },
    {
      "cell_type": "markdown",
      "source": [
        "84.temp 이름의 비어있는 딕셔너리를 만들라."
      ],
      "metadata": {
        "id": "TRqRNtFQBDDO"
      }
    },
    {
      "cell_type": "code",
      "source": [
        "temp = {  }\n"
      ],
      "metadata": {
        "id": "BJf35149BFgW"
      },
      "execution_count": null,
      "outputs": []
    },
    {
      "cell_type": "markdown",
      "source": [
        "85.다음 아이스크림 이름과 희망 가격을 딕셔너리로 구성하라."
      ],
      "metadata": {
        "id": "yI8-PkufCPbW"
      }
    },
    {
      "cell_type": "code",
      "source": [
        "icecream = {'메로나':1000,\n",
        "            '폴라포':1200,\n",
        "            '빵빠레':1800\n",
        "             }\n",
        "print(icecream)"
      ],
      "metadata": {
        "id": "anTkw34SCQeS"
      },
      "execution_count": null,
      "outputs": []
    },
    {
      "cell_type": "markdown",
      "source": [
        "86.085 번의 딕셔너리에 아래 아이스크림 가격정보를 추가하라."
      ],
      "metadata": {
        "id": "kJm2_lfwCrgw"
      }
    },
    {
      "cell_type": "code",
      "source": [
        "icecream = {'메로나':1000,\n",
        "            '폴라포':1200,\n",
        "            '빵빠레':1800\n",
        "             }\n",
        "icecream[\"죠스바\"] = 1200\n",
        "icecream[\"월드콘\"] = 1500\n",
        "print(icecream)"
      ],
      "metadata": {
        "id": "wFF_Q-iHCspt"
      },
      "execution_count": null,
      "outputs": []
    },
    {
      "cell_type": "markdown",
      "source": [
        "87.다음 딕셔너리를 사용하여 메로나 가격을 출력하라."
      ],
      "metadata": {
        "id": "SIwHymmRDzhu"
      }
    },
    {
      "cell_type": "code",
      "source": [
        "ice = {'메로나': 1000,\n",
        "       '폴로포': 1200,\n",
        "       '빵빠레': 1800,\n",
        "       '죠스바': 1200,\n",
        "       '월드콘': 1500}\n",
        "\n",
        "ice['메로나']"
      ],
      "metadata": {
        "id": "8dNbQC5UDEYw"
      },
      "execution_count": null,
      "outputs": []
    },
    {
      "cell_type": "markdown",
      "source": [
        "88.다음 딕셔너리에서 메로나의 가격을 1300으로 수정하라."
      ],
      "metadata": {
        "id": "udAO3sQbEckk"
      }
    },
    {
      "cell_type": "code",
      "source": [
        "ice = {'메로나': 1000,\n",
        "       '폴로포': 1200,\n",
        "       '빵빠레': 1800,\n",
        "       '죠스바': 1200,\n",
        "       '월드콘': 1500}\n",
        "ice['메로나'] = 1300\n",
        "print(ice)"
      ],
      "metadata": {
        "id": "k4Rzc5ySEdnS"
      },
      "execution_count": null,
      "outputs": []
    },
    {
      "cell_type": "markdown",
      "source": [
        "89.다음 딕셔너리에서 메로나를 삭제하라."
      ],
      "metadata": {
        "id": "CcW3HKfHFGaN"
      }
    },
    {
      "cell_type": "code",
      "source": [
        "ice = {'메로나': 1000,\n",
        "       '폴로포': 1200,\n",
        "       '빵빠레': 1800,\n",
        "       '죠스바': 1200,\n",
        "       '월드콘': 1500}\n",
        "\n",
        "del ice['메로나']\n",
        "print(ice)"
      ],
      "metadata": {
        "id": "7sDBLvOZFHfQ"
      },
      "execution_count": null,
      "outputs": []
    },
    {
      "cell_type": "markdown",
      "source": [
        "90.다음 코드에서 에러가 발생한 원인을 설명하라.\n",
        "없는 키를 조회시에는 입력해야한다"
      ],
      "metadata": {
        "id": "K1SSPE_tGDY3"
      }
    }
  ]
}