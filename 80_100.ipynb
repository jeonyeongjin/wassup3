{
 "cells": [
  {
   "cell_type": "markdown",
   "metadata": {
    "id": "TUzRw0MlA7rH"
   },
   "source": [
    "81.다음과 같이 10개의 값이 저장된 scores 리스트가 있을 때, start expression을 사용하여 좌측 8개의 값을 valid_score 변수에 바인딩하여라."
   ]
  },
  {
   "cell_type": "code",
   "execution_count": 1,
   "metadata": {
    "id": "8LplNtXQWQ1-"
   },
   "outputs": [],
   "source": [
    "scores = [8.8, 8.9, 8.7, 9.2, 9.3, 9.7, 9.9, 9.5, 7.8, 9.4]"
   ]
  },
  {
   "cell_type": "markdown",
   "metadata": {
    "id": "QWkZkHzHA-t6"
   },
   "source": [
    "82.다음과 같이 10개의 값이 저장된 scores 리스트가 있을 때, start expression을 사용하여 우측 8개의 값을 valid_score 변수에 바인딩하여라."
   ]
  },
  {
   "cell_type": "code",
   "execution_count": 2,
   "metadata": {
    "id": "M7QgmKKS-hHS"
   },
   "outputs": [
    {
     "name": "stdout",
     "output_type": "stream",
     "text": [
      "[8.8, 8.9, 8.7, 9.2, 9.3, 9.7, 9.9, 9.5]\n"
     ]
    }
   ],
   "source": [
    "*valid_score, a, b = scores\n",
    "print(valid_score)"
   ]
  },
  {
   "cell_type": "code",
   "execution_count": 3,
   "metadata": {
    "id": "pJ0CG-FQAK4W"
   },
   "outputs": [
    {
     "ename": "ValueError",
     "evalue": "too many values to unpack (expected 2)",
     "output_type": "error",
     "traceback": [
      "\u001b[1;31m---------------------------------------------------------------------------\u001b[0m",
      "\u001b[1;31mValueError\u001b[0m                                Traceback (most recent call last)",
      "Cell \u001b[1;32mIn[3], line 1\u001b[0m\n\u001b[1;32m----> 1\u001b[0m a,b \u001b[38;5;241m=\u001b[39m scores, \u001b[38;5;241m*\u001b[39mvalid_score\n\u001b[0;32m      2\u001b[0m \u001b[38;5;28mprint\u001b[39m(valid_score)\n",
      "\u001b[1;31mValueError\u001b[0m: too many values to unpack (expected 2)"
     ]
    }
   ],
   "source": [
    "a,b = scores, *valid_score\n",
    "print(valid_score)"
   ]
  },
  {
   "cell_type": "markdown",
   "metadata": {
    "id": "bUlQKMI8BAY0"
   },
   "source": [
    "83.다음과 같이 10개의 값이 저장된 scores 리스트가 있을 때, start expression을 사용하여 가운데 있는 8개의 값을 valid_score 변수에 바인딩하여라."
   ]
  },
  {
   "cell_type": "code",
   "execution_count": null,
   "metadata": {
    "id": "BkSORdPrAhos"
   },
   "outputs": [],
   "source": [
    "a = scores, *valid_score, b = scores\n",
    "print(valid_score)"
   ]
  },
  {
   "cell_type": "markdown",
   "metadata": {
    "id": "TRqRNtFQBDDO"
   },
   "source": [
    "84.temp 이름의 비어있는 딕셔너리를 만들라."
   ]
  },
  {
   "cell_type": "code",
   "execution_count": null,
   "metadata": {
    "id": "BJf35149BFgW"
   },
   "outputs": [],
   "source": [
    "temp = {  }\n"
   ]
  },
  {
   "cell_type": "markdown",
   "metadata": {
    "id": "yI8-PkufCPbW"
   },
   "source": [
    "85.다음 아이스크림 이름과 희망 가격을 딕셔너리로 구성하라."
   ]
  },
  {
   "cell_type": "code",
   "execution_count": null,
   "metadata": {
    "id": "anTkw34SCQeS"
   },
   "outputs": [],
   "source": [
    "icecream = {'메로나':1000,\n",
    "            '폴라포':1200,\n",
    "            '빵빠레':1800\n",
    "             }\n",
    "print(icecream)"
   ]
  },
  {
   "cell_type": "markdown",
   "metadata": {
    "id": "kJm2_lfwCrgw"
   },
   "source": [
    "86.085 번의 딕셔너리에 아래 아이스크림 가격정보를 추가하라."
   ]
  },
  {
   "cell_type": "code",
   "execution_count": null,
   "metadata": {
    "id": "wFF_Q-iHCspt"
   },
   "outputs": [],
   "source": [
    "icecream = {'메로나':1000,\n",
    "            '폴라포':1200,\n",
    "            '빵빠레':1800\n",
    "             }\n",
    "icecream[\"죠스바\"] = 1200\n",
    "icecream[\"월드콘\"] = 1500\n",
    "print(icecream)"
   ]
  },
  {
   "cell_type": "markdown",
   "metadata": {
    "id": "SIwHymmRDzhu"
   },
   "source": [
    "87.다음 딕셔너리를 사용하여 메로나 가격을 출력하라."
   ]
  },
  {
   "cell_type": "code",
   "execution_count": null,
   "metadata": {
    "id": "8dNbQC5UDEYw"
   },
   "outputs": [],
   "source": [
    "ice = {'메로나': 1000,\n",
    "       '폴로포': 1200,\n",
    "       '빵빠레': 1800,\n",
    "       '죠스바': 1200,\n",
    "       '월드콘': 1500}\n",
    "\n",
    "ice['메로나']"
   ]
  },
  {
   "cell_type": "markdown",
   "metadata": {
    "id": "udAO3sQbEckk"
   },
   "source": [
    "88.다음 딕셔너리에서 메로나의 가격을 1300으로 수정하라."
   ]
  },
  {
   "cell_type": "code",
   "execution_count": null,
   "metadata": {
    "id": "k4Rzc5ySEdnS"
   },
   "outputs": [],
   "source": [
    "ice = {'메로나': 1000,\n",
    "       '폴로포': 1200,\n",
    "       '빵빠레': 1800,\n",
    "       '죠스바': 1200,\n",
    "       '월드콘': 1500}\n",
    "ice['메로나'] = 1300\n",
    "print(ice)"
   ]
  },
  {
   "cell_type": "markdown",
   "metadata": {
    "id": "CcW3HKfHFGaN"
   },
   "source": [
    "89.다음 딕셔너리에서 메로나를 삭제하라."
   ]
  },
  {
   "cell_type": "code",
   "execution_count": null,
   "metadata": {
    "id": "7sDBLvOZFHfQ"
   },
   "outputs": [],
   "source": [
    "ice = {'메로나': 1000,\n",
    "       '폴로포': 1200,\n",
    "       '빵빠레': 1800,\n",
    "       '죠스바': 1200,\n",
    "       '월드콘': 1500}\n",
    "\n",
    "del ice['메로나']\n",
    "print(ice)\n",
    "\n"
   ]
  },
  {
   "cell_type": "markdown",
   "metadata": {
    "id": "K1SSPE_tGDY3"
   },
   "source": [
    "90.다음 코드에서 에러가 발생한 원인을 설명하라.\n",
    "없는 키를 조회시에는 입력해야한다"
   ]
  }
 ],
 "metadata": {
  "colab": {
   "private_outputs": true,
   "provenance": []
  },
  "kernelspec": {
   "display_name": "Python 3 (ipykernel)",
   "language": "python",
   "name": "python3"
  },
  "language_info": {
   "codemirror_mode": {
    "name": "ipython",
    "version": 3
   },
   "file_extension": ".py",
   "mimetype": "text/x-python",
   "name": "python",
   "nbconvert_exporter": "python",
   "pygments_lexer": "ipython3",
   "version": "3.11.7"
  }
 },
 "nbformat": 4,
 "nbformat_minor": 4
}
